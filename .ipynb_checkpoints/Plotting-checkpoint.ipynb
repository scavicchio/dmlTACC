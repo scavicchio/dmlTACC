{
 "cells": [
  {
   "cell_type": "code",
   "execution_count": 67,
   "metadata": {},
   "outputs": [],
   "source": [
    "import matplotlib.pyplot as plt\n",
    "import numpy as np\n",
    "import pandas as pd\n",
    "import seaborn as sns\n",
    "from scipy import stats"
   ]
  },
  {
   "cell_type": "code",
   "execution_count": 68,
   "metadata": {},
   "outputs": [
    {
     "data": {
      "text/plain": [
       "<Figure size 864x864 with 0 Axes>"
      ]
     },
     "execution_count": 68,
     "metadata": {},
     "output_type": "execute_result"
    },
    {
     "data": {
      "text/plain": [
       "<Figure size 864x864 with 0 Axes>"
      ]
     },
     "metadata": {},
     "output_type": "display_data"
    }
   ],
   "source": [
    "sns.set_theme(style=\"darkgrid\")\n",
    "originalVolume = 102.11 #cm3\n",
    "density = 4.429 #gcc\n",
    "originalMass = density*originalVolume/(1.5)\n",
    "sns.set_context(\"paper\")\n",
    "limit = 200\n",
    "deflectionLim = 0.002\n",
    "plt.figure(figsize=(12,12))"
   ]
  },
  {
   "cell_type": "code",
   "execution_count": 69,
   "metadata": {},
   "outputs": [],
   "source": [
    "standard_1 = pd.read_csv('ConnectingRod/random/1/data/optMetrics.csv')\n",
    "standard_2 = pd.read_csv('ConnectingRod/random/2/data/optMetrics.csv')\n",
    "standard_3 = pd.read_csv('ConnectingRod/random/3/data/optMetrics.csv')\n",
    "standard_4 = pd.read_csv('ConnectingRod/random/4/data/optMetrics.csv')\n",
    "standard_5 = pd.read_csv('ConnectingRod/random/5/data/optMetrics.csv')"
   ]
  },
  {
   "cell_type": "code",
   "execution_count": 70,
   "metadata": {},
   "outputs": [],
   "source": [
    "standard_1.dropna(subset=[\"Deflection\"],inplace=True)\n",
    "standard_2.dropna(subset=[\"Deflection\"],inplace=True)\n",
    "standard_3.dropna(subset=[\"Deflection\"],inplace=True)\n",
    "standard_4.dropna(subset=[\"Deflection\"],inplace=True)\n",
    "standard_5.dropna(subset=[\"Deflection\"],inplace=True)"
   ]
  },
  {
   "cell_type": "code",
   "execution_count": 71,
   "metadata": {},
   "outputs": [],
   "source": [
    "standard_1[\"% Mass Remaining\"]= (standard_1[\"Total Weight\"]/originalMass)\n",
    "standard_2[\"% Mass Remaining\"]= (standard_2[\"Total Weight\"]/originalMass)\n",
    "standard_3[\"% Mass Remaining\"]= (standard_3[\"Total Weight\"]/originalMass)\n",
    "standard_4[\"% Mass Remaining\"]= (standard_4[\"Total Weight\"]/originalMass)\n",
    "standard_5[\"% Mass Remaining\"]= (standard_5[\"Total Weight\"]/originalMass)"
   ]
  },
  {
   "cell_type": "code",
   "execution_count": 72,
   "metadata": {},
   "outputs": [],
   "source": [
    "standard_1[\"Run\"]= 1\n",
    "standard_2[\"Run\"]= 2\n",
    "standard_3[\"Run\"]= 3\n",
    "standard_4[\"Run\"]= 4\n",
    "standard_5[\"Run\"]= 5"
   ]
  },
  {
   "cell_type": "code",
   "execution_count": 73,
   "metadata": {},
   "outputs": [],
   "source": [
    "standard_1 = standard_1[standard_1['Deflection'] < deflectionLim]\n",
    "standard_2 = standard_2[standard_2['Deflection'] < deflectionLim]\n",
    "standard_3 = standard_3[standard_3['Deflection'] < deflectionLim]\n",
    "standard_4 = standard_4[standard_4['Deflection'] < deflectionLim]\n",
    "standard_5 = standard_5[standard_5['Deflection'] < deflectionLim]"
   ]
  },
  {
   "cell_type": "code",
   "execution_count": 74,
   "metadata": {},
   "outputs": [],
   "source": [
    "standard_1 = standard_1[standard_1['% Mass Remaining'] > 0.15]\n",
    "standard_2 = standard_2[standard_2['% Mass Remaining'] > 0.15]\n",
    "standard_3 = standard_3[standard_3['% Mass Remaining'] > 0.15]\n",
    "standard_4 = standard_4[standard_4['% Mass Remaining'] > 0.15]\n",
    "standard_5 = standard_5[standard_5['% Mass Remaining'] > 0.15]"
   ]
  },
  {
   "cell_type": "code",
   "execution_count": 75,
   "metadata": {},
   "outputs": [],
   "source": [
    "data = standard_1.append(standard_2).append(standard_3).append(standard_4).append(standard_5)"
   ]
  },
  {
   "cell_type": "code",
   "execution_count": 76,
   "metadata": {},
   "outputs": [],
   "source": [
    "data[\"Type\"]=\"Bar Removal\""
   ]
  },
  {
   "cell_type": "code",
   "execution_count": 77,
   "metadata": {},
   "outputs": [],
   "source": [
    "new_row_1 = {'Deflection':0.00188, '% Mass Remaining':0.18, 'Type':'nTopology (Pre)'}\n",
    "new_row_1b = {'Deflection':0.0012, '% Mass Remaining':0.3, 'Type':'nTopology (Post)'}\n",
    "new_row_2 = {'Deflection':0.00132, '% Mass Remaining':0.3, 'Type':'ANSYS (Post)'}\n",
    "#new_row_2 = {'Deflection':0.00132, '% Mass Remaining':0.15, 'Type':'ANSYS (Pre)'}\n",
    "new_row_3 = {'Deflection':0.00152, '% Mass Remaining':0.3, 'Type':'Bar Removal (Post)'}\n",
    "\n",
    "\n",
    "\n",
    "#append row to the dataframe\n",
    "\n",
    "data = data.append(new_row_1, ignore_index=True)\n",
    "data = data.append(new_row_1b, ignore_index=True)\n",
    "data = data.append(new_row_2, ignore_index=True)\n",
    "data = data.append(new_row_3, ignore_index=True)\n",
    "\n"
   ]
  },
  {
   "cell_type": "code",
   "execution_count": null,
   "metadata": {},
   "outputs": [],
   "source": []
  },
  {
   "cell_type": "code",
   "execution_count": 78,
   "metadata": {
    "scrolled": false
   },
   "outputs": [
    {
     "name": "stdout",
     "output_type": "stream",
     "text": [
      "    Wall Clock      Time  Iteration  Deflection  Total Weight  Bar Number  \\\n",
      "0      9.85484  0.028014        0.0    0.001516      108.9510     10273.0   \n",
      "1     19.20900  0.054027        1.0    0.001517      103.4850     10273.0   \n",
      "2     28.09720  0.080040        2.0    0.001519       98.2333     10273.0   \n",
      "3     36.60090  0.106053        3.0    0.001522       93.1408     10273.0   \n",
      "4     44.87030  0.132066        4.0    0.001525       88.4449     10273.0   \n",
      "..         ...       ...        ...         ...           ...         ...   \n",
      "83   128.58500  0.418209       15.0    0.001703       48.0286     10017.0   \n",
      "84   135.43500  0.444222       16.0    0.001750       45.5008     10017.0   \n",
      "85         NaN       NaN        NaN    0.001200           NaN         NaN   \n",
      "86         NaN       NaN        NaN    0.001320           NaN         NaN   \n",
      "87         NaN       NaN        NaN    0.001520           NaN         NaN   \n",
      "\n",
      "    % Mass Remaining  Run                Type  \n",
      "0           0.361367  1.0         Bar Removal  \n",
      "1           0.343237  1.0         Bar Removal  \n",
      "2           0.325819  1.0         Bar Removal  \n",
      "3           0.308928  1.0         Bar Removal  \n",
      "4           0.293353  1.0         Bar Removal  \n",
      "..               ...  ...                 ...  \n",
      "83          0.159301  5.0         Bar Removal  \n",
      "84          0.150916  5.0         Bar Removal  \n",
      "85          0.300000  NaN    nTopology (Post)  \n",
      "86          0.300000  NaN        ANSYS (Post)  \n",
      "87          0.300000  NaN  Bar Removal (Post)  \n",
      "\n",
      "[88 rows x 9 columns]\n"
     ]
    }
   ],
   "source": [
    "print(data)"
   ]
  },
  {
   "cell_type": "code",
   "execution_count": 79,
   "metadata": {
    "scrolled": false
   },
   "outputs": [
    {
     "data": {
      "image/png": "[encoded data removed]",
      "text/plain": [
       "<Figure size 432x288 with 1 Axes>"
      ]
     },
     "metadata": {},
     "output_type": "display_data"
    }
   ],
   "source": [
    "aReg = sns.scatterplot(x=\"% Mass Remaining\", y=\"Deflection\",data=data,hue=\"Type\")"
   ]
  },
  {
   "cell_type": "code",
   "execution_count": null,
   "metadata": {},
   "outputs": [],
   "source": [
    "aReg.set(ylim=(0.0012,0.00162))"
   ]
  },
  {
   "cell_type": "code",
   "execution_count": null,
   "metadata": {},
   "outputs": [],
   "source": [
    "plt.show()"
   ]
  },
  {
   "cell_type": "code",
   "execution_count": null,
   "metadata": {},
   "outputs": [],
   "source": [
    "sns.lineplot(x=\"Iteration\", y=\"Deflection\",data=data,hue=\"Type\")"
   ]
  },
  {
   "cell_type": "code",
   "execution_count": null,
   "metadata": {},
   "outputs": [],
   "source": [
    "free_1 = pd.read_csv('ConnectingRodFree/1/data/optMetrics.csv')\n",
    "free_2 = pd.read_csv('ConnectingRodFree/2/data/optMetrics.csv')\n",
    "free_3 = pd.read_csv('ConnectingRodFree/3/data/optMetrics.csv')\n",
    "free_4 = pd.read_csv('ConnectingRodFree/4/data/optMetrics.csv')\n",
    "free_5 = pd.read_csv('ConnectingRodFree/5/data/optMetrics.csv')\n"
   ]
  },
  {
   "cell_type": "code",
   "execution_count": null,
   "metadata": {},
   "outputs": [],
   "source": [
    "\n",
    "free_1.dropna(subset=[\"Deflection\"],inplace=True)\n",
    "free_2.dropna(subset=[\"Deflection\"],inplace=True)\n",
    "free_3.dropna(subset=[\"Deflection\"],inplace=True)\n",
    "free_4.dropna(subset=[\"Deflection\"],inplace=True)\n",
    "free_5.dropna(subset=[\"Deflection\"],inplace=True)\n",
    "\n",
    "free_1[\"Run\"]= 1\n",
    "free_2[\"Run\"]= 2\n",
    "free_3[\"Run\"]= 3\n",
    "free_4[\"Run\"]= 4\n",
    "free_5[\"Run\"]= 5\n",
    "\n",
    "free_1[\"% Mass Remaining\"]= (free_1[\"Total Weight\"]/originalMass)\n",
    "free_2[\"% Mass Remaining\"]= (free_2[\"Total Weight\"]/originalMass)\n",
    "free_3[\"% Mass Remaining\"]= (free_3[\"Total Weight\"]/originalMass)\n",
    "free_4[\"% Mass Remaining\"]= (free_4[\"Total Weight\"]/originalMass)\n",
    "free_5[\"% Mass Remaining\"]= (free_5[\"Total Weight\"]/originalMass)\n",
    "\n",
    "free_1 = free_1[free_1['Deflection'] < deflectionLim]\n",
    "free_2 = free_2[free_2['Deflection'] < deflectionLim]\n",
    "free_3 = free_3[free_3['Deflection'] < deflectionLim]\n",
    "free_4 = free_4[free_4['Deflection'] < deflectionLim]\n",
    "free_5 = free_5[free_5['Deflection'] < deflectionLim]\n",
    "\n",
    "free_1 = free_1[free_1['% Mass Remaining'] > 0.1]\n",
    "free_2 = free_2[free_2['% Mass Remaining'] > 0.1]\n",
    "free_3 = free_3[free_3['% Mass Remaining'] > 0.1]\n",
    "free_4 = free_4[free_4['% Mass Remaining'] > 0.1]\n",
    "free_5 = free_5[free_5['% Mass Remaining'] > 0.1]\n",
    "\n",
    "free_1 = free_1[free_1['Iteration'] < limit]\n",
    "free_2 = free_2[free_2['Iteration'] < limit]\n",
    "free_3 = free_3[free_3['Iteration'] < limit]\n",
    "free_4 = free_4[free_4['Iteration'] < limit]\n",
    "free_5 = free_5[free_5['Iteration'] < limit]"
   ]
  },
  {
   "cell_type": "code",
   "execution_count": null,
   "metadata": {},
   "outputs": [],
   "source": [
    "data_free = free_1.append(free_2).append(free_3).append(free_4).append(free_5)\n",
    "data_free[\"Type\"] = \"Free\""
   ]
  },
  {
   "cell_type": "code",
   "execution_count": null,
   "metadata": {},
   "outputs": [],
   "source": [
    "sns.lineplot(x=\"Iteration\", y=\"Deflection\",data=data_free,hue=\"Type\")"
   ]
  },
  {
   "cell_type": "code",
   "execution_count": null,
   "metadata": {},
   "outputs": [],
   "source": [
    "bounded_1 = pd.read_csv('ConnectingRodBounded/1/data/optMetrics.csv')\n",
    "bounded_2 = pd.read_csv('ConnectingRodBounded/2/data/optMetrics.csv')\n",
    "bounded_3 = pd.read_csv('ConnectingRodBounded/3/data/optMetrics.csv')\n",
    "bounded_4 = pd.read_csv('ConnectingRodBounded/4/data/optMetrics.csv')\n",
    "bounded_5 = pd.read_csv('ConnectingRodBounded/5/data/optMetrics.csv')"
   ]
  },
  {
   "cell_type": "code",
   "execution_count": null,
   "metadata": {},
   "outputs": [],
   "source": [
    "\n",
    "bounded_1.dropna(subset=[\"Deflection\"],inplace=True)\n",
    "bounded_2.dropna(subset=[\"Deflection\"],inplace=True)\n",
    "bounded_3.dropna(subset=[\"Deflection\"],inplace=True)\n",
    "bounded_4.dropna(subset=[\"Deflection\"],inplace=True)\n",
    "bounded_5.dropna(subset=[\"Deflection\"],inplace=True)\n",
    "\n",
    "bounded_1[\"Run\"]= 1\n",
    "bounded_2[\"Run\"]= 2\n",
    "bounded_3[\"Run\"]= 3\n",
    "bounded_4[\"Run\"]= 4\n",
    "bounded_5[\"Run\"]= 5\n",
    "\n",
    "bounded_1[\"% Mass Remaining\"]= (bounded_1[\"Total Weight\"]/originalMass)\n",
    "bounded_2[\"% Mass Remaining\"]= (bounded_2[\"Total Weight\"]/originalMass)\n",
    "bounded_3[\"% Mass Remaining\"]= (bounded_3[\"Total Weight\"]/originalMass)\n",
    "bounded_4[\"% Mass Remaining\"]= (bounded_4[\"Total Weight\"]/originalMass)\n",
    "bounded_5[\"% Mass Remaining\"]= (bounded_5[\"Total Weight\"]/originalMass)\n",
    "\n",
    "bounded_1 = bounded_1[bounded_1['Deflection'] < deflectionLim]\n",
    "bounded_2 = bounded_2[bounded_2['Deflection'] < deflectionLim]\n",
    "bounded_3 = bounded_3[bounded_3['Deflection'] < deflectionLim]\n",
    "bounded_4 = bounded_4[bounded_4['Deflection'] < deflectionLim]\n",
    "bounded_5 = bounded_5[bounded_5['Deflection'] < deflectionLim]\n",
    "\n",
    "bounded_1 = bounded_1[bounded_1['% Mass Remaining'] > 0.1]\n",
    "bounded_2 = bounded_2[bounded_2['% Mass Remaining'] > 0.1]\n",
    "bounded_3 = bounded_3[bounded_3['% Mass Remaining'] > 0.1]\n",
    "bounded_4 = bounded_4[bounded_4['% Mass Remaining'] > 0.1]\n",
    "bounded_5 = bounded_5[bounded_5['% Mass Remaining'] > 0.1]\n",
    "\n",
    "bounded_1 = bounded_1[bounded_1['Iteration'] < limit]\n",
    "bounded_2 = bounded_2[bounded_2['Iteration'] < limit]\n",
    "bounded_3 = bounded_3[bounded_3['Iteration'] < limit]\n",
    "bounded_4 = bounded_4[bounded_4['Iteration'] < limit]\n",
    "bounded_5 = bounded_5[bounded_5['Iteration'] < limit]"
   ]
  },
  {
   "cell_type": "code",
   "execution_count": null,
   "metadata": {},
   "outputs": [],
   "source": [
    "data_bounded = bounded_1.append(bounded_2).append(bounded_3).append(bounded_4).append(bounded_5)\n",
    "data_bounded[\"Type\"] = \"Bounded\""
   ]
  },
  {
   "cell_type": "code",
   "execution_count": null,
   "metadata": {},
   "outputs": [],
   "source": [
    "data=data_bounded.append(data_free)"
   ]
  },
  {
   "cell_type": "code",
   "execution_count": null,
   "metadata": {},
   "outputs": [],
   "source": [
    "plot = sns.lineplot(x=\"Iteration\", y=\"Deflection\",data=data,hue=\"Type\",sort=True)"
   ]
  },
  {
   "cell_type": "code",
   "execution_count": null,
   "metadata": {},
   "outputs": [],
   "source": [
    "plot = sns.lineplot(y=\"Deflection\", x=\"% Mass Remaining\",data=data,hue=\"Type\",sort=True)"
   ]
  },
  {
   "cell_type": "code",
   "execution_count": null,
   "metadata": {},
   "outputs": [],
   "source": []
  }
 ],
 "metadata": {
  "kernelspec": {
   "display_name": "Python 3",
   "language": "python",
   "name": "python3"
  },
  "language_info": {
   "codemirror_mode": {
    "name": "ipython",
    "version": 3
   },
   "file_extension": ".py",
   "mimetype": "text/x-python",
   "name": "python",
   "nbconvert_exporter": "python",
   "pygments_lexer": "ipython3",
   "version": "3.8.5"
  }
 },
 "nbformat": 4,
 "nbformat_minor": 4
}
